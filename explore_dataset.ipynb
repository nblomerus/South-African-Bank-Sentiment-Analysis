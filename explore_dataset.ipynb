{
 "cells": [
  {
   "cell_type": "code",
   "execution_count": 1,
   "id": "ec259033",
   "metadata": {},
   "outputs": [],
   "source": [
    "import pandas as pd\n",
    "import nest_asyncio             \n",
    "import matplotlib.pyplot as plt\n",
    "from utilities import clean_tweet, create_bank_col\n",
    "#Reading data and models\n",
    "import glob                     \n",
    "import os\n",
    "import pickle\n",
    "import re\n",
    "import numpy as np\n",
    "import datetime as dt\n",
    "import seaborn as sns"
   ]
  },
  {
   "cell_type": "code",
   "execution_count": 3,
   "id": "6e5f57c7",
   "metadata": {},
   "outputs": [
    {
     "name": "stderr",
     "output_type": "stream",
     "text": [
      "/tmp/ipykernel_7422/1788197953.py:17: DtypeWarning: Columns (6) have mixed types. Specify dtype option on import or set low_memory=False.\n",
      "  df = pd.read_csv(file_path)\n"
     ]
    }
   ],
   "source": [
    "# Read the path\n",
    "dir_datasets = os.getenv(\"DATASETS_PATH\")\n",
    "directory = f\"{dir_datasets}/tweets_of_the_top_5_banks_in_SA/\"\n",
    "\n",
    "# Use os.listdir() to get a list of all files in the directory\n",
    "files = os.listdir(directory)\n",
    "\n",
    "# Use a list comprehension to filter out only CSV files\n",
    "csv_files = [file for file in files if file.endswith(\".csv\")]\n",
    "\n",
    "# Initialize an empty list to store the dataframes\n",
    "df_list = []\n",
    "\n",
    "# Iterate over the CSV files and read them into pandas dataframes\n",
    "for file in csv_files:\n",
    "    file_path = os.path.join(directory, file)\n",
    "    df = pd.read_csv(file_path)\n",
    "    df_list.append(df)\n",
    "\n",
    "# Concatenate the dataframes\n",
    "tweets_df = pd.concat(df_list)"
   ]
  },
  {
   "cell_type": "code",
   "execution_count": 4,
   "id": "798077ed",
   "metadata": {},
   "outputs": [
    {
     "name": "stdout",
     "output_type": "stream",
     "text": [
      "   year  counts\n",
      "0  2019  297949\n",
      "1  2020  376540\n",
      "2  2021  411240\n"
     ]
    }
   ],
   "source": [
    "# Create a new column 'year' from the 'date' column\n",
    "tweets_df['year'] = pd.DatetimeIndex(tweets_df['date']).year\n",
    "\n",
    "# Group the dataframe by year\n",
    "grouped_df = tweets_df.groupby(['year'])\n",
    "\n",
    "# Use the size() function to get the number of indexes per year\n",
    "indexes_per_year = grouped_df.size().reset_index(name='counts')\n",
    "\n",
    "# Print the result\n",
    "print(indexes_per_year)\n"
   ]
  },
  {
   "cell_type": "code",
   "execution_count": 5,
   "id": "4fd1df75",
   "metadata": {},
   "outputs": [
    {
     "name": "stdout",
     "output_type": "stream",
     "text": [
      "['@magefalco Let me know when you would like to play against my cheesy absa'\n",
      " '@Thabiso_TK Happy birthday to the handsome msushwana. 😂😂😂May he grow up and be protected and blessed. May he also stay far away from teams that have been knockout out of the Nedbank cup.'\n",
      " '@SbuMasang JZ will give us Nedbank Cup.  And next season the league'\n",
      " 'This is result of SA Nedbank cup   ———————————————————— 6 February 2021 JDR Stars vs Pretoria University Fc 2-1 JDR Stars won  Orlando Pirates vs Uthongathi FC  1-0 Orlando Pirates won  TS Galaxy vs TS Sporting  0(4)-0(5) TS sporting won the game with Penalty ￼'\n",
      " '@Radebe_merci Invest bank &amp; Absa'\n",
      " '@StandardBankZA @kulanicool @Nedbank @FNBSA @CapitecBankSA Thank you 🙏 will do.'\n",
      " 'Nedbank Cup: Twitter reacts to Orlando Pirates’ narrow win over Uthongathi\\xa0FC  https://t.co/EzVO9A80V7'\n",
      " 'Pirates, Cape Town City and AmaZulu advance to Nedbank Cup last\\xa016  https://t.co/CDFWo48z0F'\n",
      " \"@Radebe_merci Daaaym I thought I'm weird I use FNB, NEDBANK and Capitec\"\n",
      " '@StandardBankZA #itcanbe #bankmysummer #januworry Have a beautiful night  https://t.co/NGqkVbbp6g']\n"
     ]
    }
   ],
   "source": [
    "print(tweets_df['base_tweet'].head(10).values)"
   ]
  },
  {
   "cell_type": "code",
   "execution_count": 6,
   "id": "da9567a2",
   "metadata": {
    "scrolled": true
   },
   "outputs": [],
   "source": [
    "# Apply the clean_tweet function to the base_tweet column\n",
    "cleaned_tweets, hashtags = clean_tweet(tweets_df['base_tweet'])\n",
    "# Add the cleaned tweets and hashtags columns to the dataframe\n",
    "tweets_df['clean_tweet'] = cleaned_tweets\n",
    "tweets_df['hashtags'] = hashtags"
   ]
  },
  {
   "cell_type": "code",
   "execution_count": 7,
   "id": "61201a36",
   "metadata": {},
   "outputs": [
    {
     "name": "stdout",
     "output_type": "stream",
     "text": [
      "['Let me know when you would like to play against my cheesy absa'\n",
      " 'Happy birthday to the handsome msushwana. May he grow up and be protected and blessed. May he also stay far away from teams that have been knockout out of the Nedbank cup.'\n",
      " 'JZ will give us Nedbank Cup. And next season the league'\n",
      " 'This is result of SA Nedbank cup 6 February 2021 JDR Stars vs Pretoria University Fc 2-1 JDR Stars won Orlando Pirates vs Uthongathi FC 1-0 Orlando Pirates won TS Galaxy vs TS Sporting 0(4)-0(5) TS sporting won the game with Penalty'\n",
      " 'Invest bank &amp; Absa' 'Thank you will do.'\n",
      " 'Nedbank Cup: Twitter reacts to Orlando Pirates narrow win over UthongathiFC'\n",
      " 'Pirates, Cape Town City and AmaZulu advance to Nedbank Cup last16'\n",
      " \"Daaaym I thought I'm weird I use FNB, NEDBANK and Capitec\"\n",
      " '#itcanbe #bankmysummer #januworry Have a beautiful night']\n"
     ]
    }
   ],
   "source": [
    "print(tweets_df['clean_tweet'].head(10).values)"
   ]
  },
  {
   "cell_type": "code",
   "execution_count": 8,
   "id": "e93feb28",
   "metadata": {
    "scrolled": true
   },
   "outputs": [
    {
     "name": "stdout",
     "output_type": "stream",
     "text": [
      "<class 'pandas.core.frame.DataFrame'>\n",
      "Int64Index: 1085729 entries, 0 to 376539\n",
      "Data columns (total 42 columns):\n",
      " #   Column           Non-Null Count    Dtype  \n",
      "---  ------           --------------    -----  \n",
      " 0   Unnamed: 0       1085729 non-null  int64  \n",
      " 1   id               1085729 non-null  float64\n",
      " 2   conversation_id  1085729 non-null  float64\n",
      " 3   created_at       1085729 non-null  float64\n",
      " 4   date             1085729 non-null  object \n",
      " 5   timezone         1085729 non-null  int64  \n",
      " 6   place            964 non-null      object \n",
      " 7   base_tweet       1085729 non-null  object \n",
      " 8   cleaned_tweet    1001735 non-null  object \n",
      " 9   language         1085729 non-null  object \n",
      " 10  hashtags         1085729 non-null  object \n",
      " 11  cashtags         1085729 non-null  object \n",
      " 12  user_id          1085729 non-null  float64\n",
      " 13  user_id_str      1085729 non-null  float64\n",
      " 14  username         1085729 non-null  object \n",
      " 15  name             1085687 non-null  object \n",
      " 16  day              1085729 non-null  int64  \n",
      " 17  hour             1085729 non-null  int64  \n",
      " 18  link             1085729 non-null  object \n",
      " 19  urls             1085729 non-null  object \n",
      " 20  photos           1085729 non-null  object \n",
      " 21  video            1085729 non-null  int64  \n",
      " 22  thumbnail        163141 non-null   object \n",
      " 23  retweet          1085729 non-null  bool   \n",
      " 24  nlikes           1085729 non-null  int64  \n",
      " 25  nreplies         1085729 non-null  int64  \n",
      " 26  nretweets        1085729 non-null  int64  \n",
      " 27  quote_url        45733 non-null    object \n",
      " 28  search           1085729 non-null  object \n",
      " 29  near             0 non-null        float64\n",
      " 30  geo              0 non-null        float64\n",
      " 31  source           0 non-null        float64\n",
      " 32  user_rt_id       0 non-null        float64\n",
      " 33  user_rt          0 non-null        float64\n",
      " 34  retweet_id       0 non-null        float64\n",
      " 35  reply_to         1085729 non-null  object \n",
      " 36  retweet_date     0 non-null        float64\n",
      " 37  translate        0 non-null        float64\n",
      " 38  trans_src        0 non-null        float64\n",
      " 39  trans_dest       0 non-null        float64\n",
      " 40  year             1085729 non-null  int64  \n",
      " 41  clean_tweet      1085729 non-null  object \n",
      "dtypes: bool(1), float64(15), int64(9), object(17)\n",
      "memory usage: 348.9+ MB\n"
     ]
    }
   ],
   "source": [
    "tweets_df.info()"
   ]
  },
  {
   "cell_type": "code",
   "execution_count": 9,
   "id": "59d0f797",
   "metadata": {},
   "outputs": [
    {
     "name": "stdout",
     "output_type": "stream",
     "text": [
      "   language hashtags cashtags\n",
      "0        en       []       []\n",
      "1        en       []       []\n",
      "2        en       []       []\n",
      "3        en       []       []\n",
      "4        en       []       []\n",
      "..      ...      ...      ...\n",
      "95       en       []       []\n",
      "96      und       []       []\n",
      "97       en       []       []\n",
      "98       en       []       []\n",
      "99       en       []       []\n",
      "\n",
      "[100 rows x 3 columns]\n",
      "['en' 'und']\n",
      "['en']\n"
     ]
    }
   ],
   "source": [
    "print(tweets_df[['language', 'hashtags', 'cashtags']].head(100))\n",
    "print(tweets_df['language'].unique())\n",
    "# remove all rows where language is not english or undefined\n",
    "tweets_df = tweets_df[tweets_df[\"language\"].isin(['en'])]\n",
    "print(tweets_df['language'].unique())"
   ]
  },
  {
   "cell_type": "code",
   "execution_count": 10,
   "id": "682c54bf",
   "metadata": {},
   "outputs": [
    {
     "name": "stdout",
     "output_type": "stream",
     "text": [
      "0\n"
     ]
    }
   ],
   "source": [
    "queary_result = tweets_df.query(\"language == 'und'\")\n",
    "und_tweets = queary_result['clean_tweet'].values\n",
    "print(queary_result['clean_tweet'].count())"
   ]
  },
  {
   "cell_type": "code",
   "execution_count": 11,
   "id": "b9909d86",
   "metadata": {
    "scrolled": true
   },
   "outputs": [
    {
     "name": "stdout",
     "output_type": "stream",
     "text": [
      "<class 'pandas.core.frame.DataFrame'>\n",
      "Int64Index: 982194 entries, 0 to 376539\n",
      "Data columns (total 42 columns):\n",
      " #   Column           Non-Null Count   Dtype  \n",
      "---  ------           --------------   -----  \n",
      " 0   Unnamed: 0       982194 non-null  int64  \n",
      " 1   id               982194 non-null  float64\n",
      " 2   conversation_id  982194 non-null  float64\n",
      " 3   created_at       982194 non-null  float64\n",
      " 4   date             982194 non-null  object \n",
      " 5   timezone         982194 non-null  int64  \n",
      " 6   place            946 non-null     object \n",
      " 7   base_tweet       982194 non-null  object \n",
      " 8   cleaned_tweet    982120 non-null  object \n",
      " 9   language         982194 non-null  object \n",
      " 10  hashtags         982194 non-null  object \n",
      " 11  cashtags         982194 non-null  object \n",
      " 12  user_id          982194 non-null  float64\n",
      " 13  user_id_str      982194 non-null  float64\n",
      " 14  username         982194 non-null  object \n",
      " 15  name             982152 non-null  object \n",
      " 16  day              982194 non-null  int64  \n",
      " 17  hour             982194 non-null  int64  \n",
      " 18  link             982194 non-null  object \n",
      " 19  urls             982194 non-null  object \n",
      " 20  photos           982194 non-null  object \n",
      " 21  video            982194 non-null  int64  \n",
      " 22  thumbnail        147457 non-null  object \n",
      " 23  retweet          982194 non-null  bool   \n",
      " 24  nlikes           982194 non-null  int64  \n",
      " 25  nreplies         982194 non-null  int64  \n",
      " 26  nretweets        982194 non-null  int64  \n",
      " 27  quote_url        40927 non-null   object \n",
      " 28  search           982194 non-null  object \n",
      " 29  near             0 non-null       float64\n",
      " 30  geo              0 non-null       float64\n",
      " 31  source           0 non-null       float64\n",
      " 32  user_rt_id       0 non-null       float64\n",
      " 33  user_rt          0 non-null       float64\n",
      " 34  retweet_id       0 non-null       float64\n",
      " 35  reply_to         982194 non-null  object \n",
      " 36  retweet_date     0 non-null       float64\n",
      " 37  translate        0 non-null       float64\n",
      " 38  trans_src        0 non-null       float64\n",
      " 39  trans_dest       0 non-null       float64\n",
      " 40  year             982194 non-null  int64  \n",
      " 41  clean_tweet      982194 non-null  object \n",
      "dtypes: bool(1), float64(15), int64(9), object(17)\n",
      "memory usage: 315.7+ MB\n"
     ]
    }
   ],
   "source": [
    "tweets_df.info()"
   ]
  },
  {
   "cell_type": "code",
   "execution_count": 12,
   "id": "46d27c3d",
   "metadata": {},
   "outputs": [
    {
     "data": {
      "text/plain": [
       "array([[\"STANDARD BANK JUST DONATED R 1 000 000.00 TO #R10GoesALongWay THE TOTAL IS R2 000 000.00! OH MY GOSHSSSSSS!!!!! SOUTH AFRICA WE RAISED 2 MILLION RAND FOR STUDENTS I DON'T KNOW HOW TO REACT!!! 2 MILLION !!! WHAT!!! THANK YOU THANK YOU THANK YOU WHAT!\",\n",
       "        'lasizwe', 'Lasizwe', 'en', 25276],\n",
       "       ['My life is forever busy, moving from meeting to meeting, casting to film set, so having convenient and safe places to get cash on the go works for me. #LoveFNB',\n",
       "        'TerryPheto', 'Terry Pheto', 'en', 21071],\n",
       "       ['Celebrating my last day at Standard Bank on Simmonds,there will be a new guy starting work this side on Monday. I will be heading off to discover a new clientele at the SABC studios in Auckland Park,I pray everything goes well Please RT so all those in Auckland can cav',\n",
       "        'sandwich_kiing', 'Itumeleng Lekomanyane', 'en', 13679],\n",
       "       ['#CountryDuty Special shout out to who just called show on and offered to double whatever Wiseman has received thus far. Thank you Mzansi for your kind messages &amp; contributions to Wiseman. Im lost for words',\n",
       "        'tumisole', 'Tumi Sole', 'en', 11624],\n",
       "       [\"Sold out by 08:30 today sandwiches and muffins gone thank you employees of and other work places around,the clientele keeps growing daily,it's gonna be so sad to leave you in a week/two to go discover a new clientele but moshito wa tswella . Happy Monday world\",\n",
       "        'sandwich_kiing', 'Itumeleng Lekomanyane', 'en', 10706]],\n",
       "      dtype=object)"
      ]
     },
     "execution_count": 12,
     "metadata": {},
     "output_type": "execute_result"
    }
   ],
   "source": [
    "tweets_df[['clean_tweet', 'username', 'name', 'language', 'nlikes']].sort_values(by='nlikes', ascending=False).head(5).values"
   ]
  },
  {
   "cell_type": "code",
   "execution_count": 13,
   "id": "446a9f6a",
   "metadata": {},
   "outputs": [],
   "source": [
    "tweets_df = tweets_df.drop(['Unnamed: 0','created_at', 'user_id_str', 'link', 'urls', 'photos', 'video',\n",
    "       'thumbnail', 'retweet', 'quote_url', 'near', 'geo', 'source', 'user_rt_id', 'user_rt',\n",
    "       'retweet_id', 'retweet_date', 'translate', 'trans_src',\n",
    "       'trans_dest', 'year', 'language', 'search', 'cashtags', 'cleaned_tweet', 'timezone', 'reply_to'],axis = 1)\n"
   ]
  },
  {
   "cell_type": "code",
   "execution_count": 14,
   "id": "c5a98fef",
   "metadata": {},
   "outputs": [
    {
     "name": "stdout",
     "output_type": "stream",
     "text": [
      "<class 'pandas.core.frame.DataFrame'>\n",
      "Int64Index: 982194 entries, 0 to 376539\n",
      "Data columns (total 15 columns):\n",
      " #   Column           Non-Null Count   Dtype  \n",
      "---  ------           --------------   -----  \n",
      " 0   id               982194 non-null  float64\n",
      " 1   conversation_id  982194 non-null  float64\n",
      " 2   date             982194 non-null  object \n",
      " 3   place            946 non-null     object \n",
      " 4   base_tweet       982194 non-null  object \n",
      " 5   hashtags         982194 non-null  object \n",
      " 6   user_id          982194 non-null  float64\n",
      " 7   username         982194 non-null  object \n",
      " 8   name             982152 non-null  object \n",
      " 9   day              982194 non-null  int64  \n",
      " 10  hour             982194 non-null  int64  \n",
      " 11  nlikes           982194 non-null  int64  \n",
      " 12  nreplies         982194 non-null  int64  \n",
      " 13  nretweets        982194 non-null  int64  \n",
      " 14  clean_tweet      982194 non-null  object \n",
      "dtypes: float64(3), int64(5), object(7)\n",
      "memory usage: 119.9+ MB\n"
     ]
    }
   ],
   "source": [
    "tweets_df.info()"
   ]
  },
  {
   "cell_type": "code",
   "execution_count": 15,
   "id": "2f9c80c3",
   "metadata": {},
   "outputs": [],
   "source": [
    "# remove rows where username is in bank_search\n",
    "tweets_df = tweets_df[ ~tweets_df[\"username\"].str.lower().str.contains('fnb|standardbank|nedbank|absa|capitec',regex = True)]"
   ]
  },
  {
   "cell_type": "code",
   "execution_count": 16,
   "id": "2ab72a0e",
   "metadata": {},
   "outputs": [
    {
     "name": "stdout",
     "output_type": "stream",
     "text": [
      "<class 'pandas.core.frame.DataFrame'>\n",
      "Int64Index: 982194 entries, 0 to 376539\n",
      "Data columns (total 15 columns):\n",
      " #   Column           Non-Null Count   Dtype  \n",
      "---  ------           --------------   -----  \n",
      " 0   id               982194 non-null  float64\n",
      " 1   conversation_id  982194 non-null  float64\n",
      " 2   date             982194 non-null  object \n",
      " 3   place            946 non-null     object \n",
      " 4   base_tweet       982194 non-null  object \n",
      " 5   hashtags         982194 non-null  object \n",
      " 6   user_id          982194 non-null  float64\n",
      " 7   username         982194 non-null  object \n",
      " 8   name             982152 non-null  object \n",
      " 9   day              982194 non-null  int64  \n",
      " 10  hour             982194 non-null  int64  \n",
      " 11  nlikes           982194 non-null  int64  \n",
      " 12  nreplies         982194 non-null  int64  \n",
      " 13  nretweets        982194 non-null  int64  \n",
      " 14  clean_tweet      982194 non-null  object \n",
      "dtypes: float64(3), int64(5), object(7)\n",
      "memory usage: 119.9+ MB\n"
     ]
    },
    {
     "data": {
      "text/plain": [
       "NoneType"
      ]
     },
     "execution_count": 16,
     "metadata": {},
     "output_type": "execute_result"
    }
   ],
   "source": [
    "type(tweets_df.info())"
   ]
  },
  {
   "cell_type": "code",
   "execution_count": 17,
   "id": "e74c09dc",
   "metadata": {},
   "outputs": [
    {
     "name": "stdout",
     "output_type": "stream",
     "text": [
      "<class 'pandas.core.frame.DataFrame'>\n",
      "Int64Index: 982194 entries, 0 to 376539\n",
      "Data columns (total 15 columns):\n",
      " #   Column           Non-Null Count   Dtype         \n",
      "---  ------           --------------   -----         \n",
      " 0   id               982194 non-null  float64       \n",
      " 1   conversation_id  982194 non-null  float64       \n",
      " 2   date             982194 non-null  datetime64[ns]\n",
      " 3   place            946 non-null     object        \n",
      " 4   base_tweet       982194 non-null  object        \n",
      " 5   hashtags         982194 non-null  object        \n",
      " 6   user_id          982194 non-null  float64       \n",
      " 7   username         982194 non-null  object        \n",
      " 8   name             982152 non-null  object        \n",
      " 9   day              982194 non-null  int64         \n",
      " 10  hour             982194 non-null  int64         \n",
      " 11  nlikes           982194 non-null  int64         \n",
      " 12  nreplies         982194 non-null  int64         \n",
      " 13  nretweets        982194 non-null  int64         \n",
      " 14  clean_tweet      982194 non-null  object        \n",
      "dtypes: datetime64[ns](1), float64(3), int64(5), object(6)\n",
      "memory usage: 119.9+ MB\n"
     ]
    },
    {
     "data": {
      "text/plain": [
       "NoneType"
      ]
     },
     "execution_count": 17,
     "metadata": {},
     "output_type": "execute_result"
    }
   ],
   "source": [
    "tweets_df[\"base_tweet\"] = tweets_df[\"base_tweet\"].astype(str)\n",
    "tweets_df[\"clean_tweet\"] = tweets_df[\"clean_tweet\"].astype(str)\n",
    "tweets_df[\"date\"] = pd.to_datetime(tweets_df[\"date\"])\n",
    "type(tweets_df.info())"
   ]
  },
  {
   "cell_type": "code",
   "execution_count": 18,
   "id": "f4cce846",
   "metadata": {},
   "outputs": [],
   "source": [
    "tweets_df[\"Bank\"] = \"\"\n",
    "tweets_df[\"Bank\"] = tweets_df[[\"base_tweet\",\"Bank\"]].apply(create_bank_col, axis =1 )"
   ]
  },
  {
   "cell_type": "code",
   "execution_count": 19,
   "id": "e3cc34da",
   "metadata": {},
   "outputs": [
    {
     "data": {
      "image/png": "[encoded data removed]",
      "text/plain": [
       "<Figure size 640x480 with 1 Axes>"
      ]
     },
     "metadata": {},
     "output_type": "display_data"
    }
   ],
   "source": [
    "# Plot the number of tweets per day\n",
    "days_dict = {1: 'Monday', 2: 'Tuesday', 3: 'Wednesday', 4: 'Thursday', 5: 'Friday', 6: 'Saturday', 7: 'Sunday'}\n",
    "day_counts = tweets_df.groupby('day').size().reset_index(name='counts')\n",
    "day_counts = day_counts.sort_values(by='day')\n",
    "day_counts = day_counts.set_index('day')\n",
    "day_counts.index = day_counts.index.map(days_dict)\n",
    "day_counts.plot.bar(legend=False)\n",
    "plt.xlabel('Days')\n",
    "plt.ylabel('Number of Tweets')\n",
    "plt.title('Histogram of the number of tweets for each day')\n",
    "plt.show()"
   ]
  },
  {
   "cell_type": "code",
   "execution_count": 20,
   "id": "c0df573a",
   "metadata": {
    "scrolled": false
   },
   "outputs": [
    {
     "name": "stdout",
     "output_type": "stream",
     "text": [
      "[[\"I have been an customer for almost 22 years. They have seen my conduct financially, but when I need their assistance they turn their back on me. Time and time again. What is the point of building a relationship with service providers if it's just easy for them to drop you?\"\n",
      "  7232 1064 1558]\n",
      " ['WIN R500 with ! Which family will make it through to Fast Money tonight on #FamilyFeudSA? Comment with your answer and you could WIN R500 thanks to Standard Bank!! (x5 winners) #FamilyFeudAfrica #ItCanBe #PureSave #etvonline #RapidBluetv'\n",
      "  573 956 294]\n",
      " ['WIN R500 with ! Which family will make it through to Fast Money tonight on #FamilyFeudSA? Comment with your answer and you could WIN R500 thanks to Standard Bank!! (x5 winners) #FamilyFeudAfrica #ItCanBe #PureSave #etvonline #RapidBluetv'\n",
      "  507 954 263]\n",
      " ['So will be giving away R10 000 EVERY week! 1. Follow 2. Start with My dream is... &amp; share what your biggest dream is 3. Use the hashtag #ItCanBe Let them kickstart your dream because #ItCanBe !! LETS GO'\n",
      "  1234 906 468]\n",
      " ['WIN R500 with ! Which family will make it through to Fast Money tonight on #FamilyFeudSA? Comment with your answer and you could WIN R500 thanks to Standard Bank!! (x5 winners) T&amp;Cs Apply #FamilyFeudAfrica #ItCanBe #PureSave'\n",
      "  543 847 296]]\n"
     ]
    }
   ],
   "source": [
    "# Sort by number of liks, replies and retweets\n",
    "print(tweets_df[['clean_tweet', 'nlikes', 'nreplies', 'nretweets']].sort_values(by='nreplies', ascending=False).head(5).values)"
   ]
  },
  {
   "cell_type": "code",
   "execution_count": 21,
   "id": "26b27701",
   "metadata": {},
   "outputs": [
    {
     "data": {
      "text/plain": [
       "array([['Let me know when you would like to play against my cheesy absa'],\n",
       "       ['Happy birthday to the handsome msushwana. May he grow up and be protected and blessed. May he also stay far away from teams that have been knockout out of the Nedbank cup.'],\n",
       "       ['JZ will give us Nedbank Cup. And next season the league'],\n",
       "       ['This is result of SA Nedbank cup 6 February 2021 JDR Stars vs Pretoria University Fc 2-1 JDR Stars won Orlando Pirates vs Uthongathi FC 1-0 Orlando Pirates won TS Galaxy vs TS Sporting 0(4)-0(5) TS sporting won the game with Penalty'],\n",
       "       ['Invest bank &amp; Absa']], dtype=object)"
      ]
     },
     "execution_count": 21,
     "metadata": {},
     "output_type": "execute_result"
    }
   ],
   "source": [
    "tweets_df[['clean_tweet']].head(5).values"
   ]
  },
  {
   "cell_type": "code",
   "execution_count": 22,
   "id": "8656d2c7",
   "metadata": {},
   "outputs": [],
   "source": [
    "# tweets_df.to_csv('full_tweets.csv', index=False)"
   ]
  },
  {
   "cell_type": "code",
   "execution_count": 23,
   "id": "8b7b37a7",
   "metadata": {},
   "outputs": [
    {
     "data": {
      "text/plain": [
       "Index(['id', 'conversation_id', 'date', 'place', 'base_tweet', 'hashtags',\n",
       "       'user_id', 'username', 'name', 'day', 'hour', 'nlikes', 'nreplies',\n",
       "       'nretweets', 'clean_tweet', 'Bank'],\n",
       "      dtype='object')"
      ]
     },
     "execution_count": 23,
     "metadata": {},
     "output_type": "execute_result"
    }
   ],
   "source": [
    "tweets_df.columns"
   ]
  },
  {
   "cell_type": "code",
   "execution_count": 24,
   "id": "0e3669ba",
   "metadata": {},
   "outputs": [
    {
     "name": "stdout",
     "output_type": "stream",
     "text": [
      "length of data is 982194\n",
      "Shape of data: (982194, 16)\n"
     ]
    }
   ],
   "source": [
    "print('length of data is', len(tweets_df))\n",
    "print(f'Shape of data: {tweets_df.shape}')"
   ]
  },
  {
   "cell_type": "code",
   "execution_count": 25,
   "id": "1f258fad",
   "metadata": {},
   "outputs": [
    {
     "data": {
      "text/plain": [
       "id                        float64\n",
       "conversation_id           float64\n",
       "date               datetime64[ns]\n",
       "place                      object\n",
       "base_tweet                 object\n",
       "hashtags                   object\n",
       "user_id                   float64\n",
       "username                   object\n",
       "name                       object\n",
       "day                         int64\n",
       "hour                        int64\n",
       "nlikes                      int64\n",
       "nreplies                    int64\n",
       "nretweets                   int64\n",
       "clean_tweet                object\n",
       "Bank                       object\n",
       "dtype: object"
      ]
     },
     "execution_count": 25,
     "metadata": {},
     "output_type": "execute_result"
    }
   ],
   "source": [
    "tweets_df.dtypes"
   ]
  },
  {
   "cell_type": "code",
   "execution_count": 26,
   "id": "f3d0dd01",
   "metadata": {},
   "outputs": [
    {
     "data": {
      "text/plain": [
       "981248"
      ]
     },
     "execution_count": 26,
     "metadata": {},
     "output_type": "execute_result"
    }
   ],
   "source": [
    "np.sum(tweets_df.isnull().any(axis=1))"
   ]
  },
  {
   "cell_type": "code",
   "execution_count": null,
   "id": "7fa4bf7e",
   "metadata": {},
   "outputs": [],
   "source": []
  }
 ],
 "metadata": {
  "kernelspec": {
   "display_name": "Python 3 (ipykernel)",
   "language": "python",
   "name": "python3"
  },
  "language_info": {
   "codemirror_mode": {
    "name": "ipython",
    "version": 3
   },
   "file_extension": ".py",
   "mimetype": "text/x-python",
   "name": "python",
   "nbconvert_exporter": "python",
   "pygments_lexer": "ipython3",
   "version": "3.10.8"
  }
 },
 "nbformat": 4,
 "nbformat_minor": 5
}
