{
 "cells": [
  {
   "cell_type": "code",
   "execution_count": 1,
   "id": "65bd3783",
   "metadata": {},
   "outputs": [],
   "source": [
    "import pandas as pd\n",
    "import matplotlib.pyplot as plt\n",
    "import glob\n",
    "from utilities import clean_tweet\n",
    "from tqdm.notebook import tqdm\n",
    "tqdm.pandas()\n",
    "import tweetnlp\n",
    "\n",
    "def get_pred(model, tweet):\n",
    "    ouput = model.predict(tweet)\n",
    "    return ouput['label'] \n",
    "\n",
    "\n",
    "# Load models from tweetnlp\n",
    "# model_hate_speech = tweetnlp.load_model('hate')\n",
    "model_offensive_language = tweetnlp.load_model('offensive')"
   ]
  },
  {
   "cell_type": "code",
   "execution_count": 2,
   "id": "6cf9d913",
   "metadata": {},
   "outputs": [],
   "source": [
    "# Read all parquet files from Tweets folder and concatenate them all into one dataframe\n",
    "df = pd.concat([pd.read_parquet(f) for f in glob.glob('Tweets/*.parquet')], ignore_index = True)"
   ]
  },
  {
   "cell_type": "code",
   "execution_count": 3,
   "id": "42e614b2",
   "metadata": {},
   "outputs": [
    {
     "data": {
      "application/vnd.jupyter.widget-view+json": {
       "model_id": "1ba7ce890ba644a5a578ed71cbf6ef31",
       "version_major": 2,
       "version_minor": 0
      },
      "text/plain": [
       "  0%|          | 0/4469911 [00:00<?, ?it/s]"
      ]
     },
     "metadata": {},
     "output_type": "display_data"
    },
    {
     "data": {
      "application/vnd.jupyter.widget-view+json": {
       "model_id": "d96d95380dc349b880c34c32d0136c84",
       "version_major": 2,
       "version_minor": 0
      },
      "text/plain": [
       "  0%|          | 0/4469911 [00:00<?, ?it/s]"
      ]
     },
     "metadata": {},
     "output_type": "display_data"
    }
   ],
   "source": [
    "df['Tweet_Clean'] = df['Tweet'].progress_apply(lambda x: clean_tweet(x))\n",
    "df['Offensive'] = df['Tweet_Clean'].progress_apply(lambda x: get_pred(model_offensive_language, x))\n"
   ]
  },
  {
   "cell_type": "code",
   "execution_count": 4,
   "id": "a04b38f2",
   "metadata": {},
   "outputs": [],
   "source": [
    "df.to_parquet('offensive.parquet')"
   ]
  },
  {
   "cell_type": "code",
   "execution_count": null,
   "id": "f078b560",
   "metadata": {},
   "outputs": [],
   "source": []
  }
 ],
 "metadata": {
  "kernelspec": {
   "display_name": "Python 3 (ipykernel)",
   "language": "python",
   "name": "python3"
  },
  "language_info": {
   "codemirror_mode": {
    "name": "ipython",
    "version": 3
   },
   "file_extension": ".py",
   "mimetype": "text/x-python",
   "name": "python",
   "nbconvert_exporter": "python",
   "pygments_lexer": "ipython3",
   "version": "3.10.9"
  }
 },
 "nbformat": 4,
 "nbformat_minor": 5
}
