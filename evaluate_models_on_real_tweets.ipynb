{
 "cells": [
  {
   "cell_type": "code",
   "execution_count": null,
   "metadata": {},
   "outputs": [],
   "source": [
    "import pandas as pd\n",
    "import numpy as np\n",
    "import glob\n",
    "from utilities import clean_tweet, get_hashtags\n",
    "from sklearn.metrics import accuracy_score\n",
    "import tweetnlp\n",
    "import pickle\n",
    "\n",
    "def get_pred(model, tweet):\n",
    "    ouput = model.predict(tweet)\n",
    "    return ouput['label'] \n",
    "\n",
    "# Load models from tweetnlp\n",
    "model_hate_speech = tweetnlp.load_model('hate')\n",
    "model_offensive_language = tweetnlp.load_model('offensive')\n",
    "model_sentiment = tweetnlp.load_model('sentiment')\n",
    "model_topic = tweetnlp.load_model('topic_classification', multi_label=False)  # Or `model = tweetnlp.TopicClassification(multi_label=False)`"
   ]
  },
  {
   "cell_type": "code",
   "execution_count": null,
   "metadata": {},
   "outputs": [],
   "source": [
    "df_benchmark = pd.read_csv('benchmark_100_tweets.csv')\n",
    "df_benchmark.head()"
   ]
  },
  {
   "cell_type": "code",
   "execution_count": null,
   "metadata": {},
   "outputs": [],
   "source": [
    "# change the values from n and y to not-sport and sport\n",
    "df_benchmark['Sport'] = df_benchmark['Sport'].replace(['n', 'y'], ['not-sport', 'sport'])\n",
    "# change the values in the sentiment column from N, n, p to negative, neutral, positive\n",
    "df_benchmark['Sentiment'] = df_benchmark['Sentiment'].replace(['N', 'n', 'p'], ['negative', 'neutral', 'positive'])\n",
    "df_benchmark['Hate_Speech'] = df_benchmark['Hate_Speech'].replace(['n', 'y'], ['non-hate', 'hate'])\n",
    "df_benchmark['Offensive'] = df_benchmark['Offensive'].replace(['n', 'y'], ['non-offensive', 'offensive'])\n",
    "\n"
   ]
  },
  {
   "cell_type": "code",
   "execution_count": null,
   "metadata": {},
   "outputs": [],
   "source": [
    "df_benchmark.head()"
   ]
  },
  {
   "cell_type": "code",
   "execution_count": null,
   "metadata": {},
   "outputs": [],
   "source": [
    "df_benchmark['Sentiment_Pred'] = df_benchmark['Tweet_Clean'].apply(lambda x: get_pred(model_sentiment, x))\n",
    "df_benchmark['Hate_Speech_Pred'] = df_benchmark['Tweet_Clean'].apply(lambda x: get_pred(model_hate_speech, x))\n",
    "df_benchmark['Offensive_Pred'] = df_benchmark['Tweet_Clean'].apply(lambda x: get_pred(model_offensive_language, x))\n",
    "df_benchmark['Sport_Pred'] = df_benchmark['Tweet_Clean'].apply(lambda x: get_pred(model_topic, x))\n"
   ]
  },
  {
   "cell_type": "code",
   "execution_count": null,
   "metadata": {},
   "outputs": [],
   "source": [
    "df_benchmark.head()\n",
    "\n",
    "df_benchmark['Sport_Pred'].unique()\n",
    "# change the values Sport_pred from 'daily', 'economics', 'entertainment' to 'not-sport'\n",
    "df_benchmark['Sport_Pred'] = df_benchmark['Sport_Pred'].replace(['business_&_entrepreneurs', 'daily_life', 'pop_culture', 'science_&_technology'], ['not-sport', 'not-sport', 'not-sport', 'not-sport']).replace(['sports_&_gaming'], ['sport'])"
   ]
  },
  {
   "cell_type": "code",
   "execution_count": null,
   "metadata": {},
   "outputs": [],
   "source": [
    "df_benchmark.head()"
   ]
  },
  {
   "cell_type": "code",
   "execution_count": null,
   "metadata": {},
   "outputs": [],
   "source": [
    "# print the accuracy score for each column\n",
    "print('Accuracy score for Sentiment: ', accuracy_score(df_benchmark['Sentiment'], df_benchmark['Sentiment_Pred']))\n",
    "print('Accuracy score for Hate Speech: ', accuracy_score(df_benchmark['Hate_Speech'], df_benchmark['Hate_Speech_Pred']))\n",
    "print('Accuracy score for Offensive: ', accuracy_score(df_benchmark['Offensive'], df_benchmark['Offensive_Pred']))\n",
    "print('Accuracy score for Topic: ', accuracy_score(df_benchmark['Sport'], df_benchmark['Sport_Pred']))"
   ]
  },
  {
   "cell_type": "code",
   "execution_count": null,
   "metadata": {},
   "outputs": [],
   "source": [
    "df_benchmark.info()"
   ]
  }
 ],
 "metadata": {
  "kernelspec": {
   "display_name": "nlp2",
   "language": "python",
   "name": "python3"
  },
  "language_info": {
   "codemirror_mode": {
    "name": "ipython",
    "version": 3
   },
   "file_extension": ".py",
   "mimetype": "text/x-python",
   "name": "python",
   "nbconvert_exporter": "python",
   "pygments_lexer": "ipython3",
   "version": "3.10.9"
  },
  "orig_nbformat": 4,
  "vscode": {
   "interpreter": {
    "hash": "189d0dc8866ae7c5243aefd5f9406ad445cf891fd6327591c18ad9e9bef8b20d"
   }
  }
 },
 "nbformat": 4,
 "nbformat_minor": 2
}
