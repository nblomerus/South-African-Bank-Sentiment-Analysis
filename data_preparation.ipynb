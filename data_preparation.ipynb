{
 "cells": [
  {
   "cell_type": "code",
   "execution_count": 1,
   "metadata": {},
   "outputs": [],
   "source": [
    "import pandas as pd\n",
    "from utilities import get_banks, get_hashtags, generate_df_hashtags, generate_df_tweet_words"
   ]
  },
  {
   "cell_type": "code",
   "execution_count": 2,
   "metadata": {},
   "outputs": [],
   "source": [
    "# load full_analysis.parquet\n",
    "df = pd.read_parquet('Analysis_results/full_analysis.parquet')"
   ]
  },
  {
   "cell_type": "code",
   "execution_count": 3,
   "metadata": {},
   "outputs": [
    {
     "name": "stdout",
     "output_type": "stream",
     "text": [
      "<class 'pandas.core.frame.DataFrame'>\n",
      "RangeIndex: 4469911 entries, 0 to 4469910\n",
      "Data columns (total 13 columns):\n",
      " #   Column         Dtype              \n",
      "---  ------         -----              \n",
      " 0   Datetime       datetime64[ns, UTC]\n",
      " 1   Tweet_Id       int64              \n",
      " 2   Tweet          string             \n",
      " 3   Username       string             \n",
      " 4   Reply_Count    int64              \n",
      " 5   Retweet_Count  int64              \n",
      " 6   Like_Count     int64              \n",
      " 7   Bank           string             \n",
      " 8   Tweet_Clean    object             \n",
      " 9   Sentiment      object             \n",
      " 10  Hate_Speech    object             \n",
      " 11  Offensive      object             \n",
      " 12  Topic_Sport    object             \n",
      "dtypes: datetime64[ns, UTC](1), int64(4), object(5), string(3)\n",
      "memory usage: 443.3+ MB\n"
     ]
    }
   ],
   "source": [
    "df.info()"
   ]
  },
  {
   "cell_type": "code",
   "execution_count": 4,
   "metadata": {},
   "outputs": [
    {
     "name": "stdout",
     "output_type": "stream",
     "text": [
      "<class 'pandas.core.frame.DataFrame'>\n",
      "Int64Index: 4321871 entries, 0 to 4469910\n",
      "Data columns (total 13 columns):\n",
      " #   Column         Dtype              \n",
      "---  ------         -----              \n",
      " 0   Datetime       datetime64[ns, UTC]\n",
      " 1   Tweet_Id       int64              \n",
      " 2   Tweet          string             \n",
      " 3   Username       string             \n",
      " 4   Reply_Count    int64              \n",
      " 5   Retweet_Count  int64              \n",
      " 6   Like_Count     int64              \n",
      " 7   Bank           string             \n",
      " 8   Tweet_Clean    object             \n",
      " 9   Sentiment      object             \n",
      " 10  Hate_Speech    object             \n",
      " 11  Offensive      object             \n",
      " 12  Topic_Sport    object             \n",
      "dtypes: datetime64[ns, UTC](1), int64(4), object(5), string(3)\n",
      "memory usage: 461.6+ MB\n"
     ]
    }
   ],
   "source": [
    "# drop duplicates based on Tweet_Id\n",
    "df.drop_duplicates(subset=['Tweet_Id'], inplace=True)\n",
    "df.info()"
   ]
  },
  {
   "cell_type": "code",
   "execution_count": 5,
   "metadata": {},
   "outputs": [],
   "source": [
    "# rename 'Bank' column to 'Bank_Search'\n",
    "df.rename(columns={'Bank': 'Bank_Search'}, inplace=True)"
   ]
  },
  {
   "cell_type": "code",
   "execution_count": 6,
   "metadata": {},
   "outputs": [
    {
     "name": "stdout",
     "output_type": "stream",
     "text": [
      "<class 'pandas.core.frame.DataFrame'>\n",
      "Int64Index: 4321871 entries, 0 to 4469910\n",
      "Data columns (total 13 columns):\n",
      " #   Column         Dtype              \n",
      "---  ------         -----              \n",
      " 0   Datetime       datetime64[ns, UTC]\n",
      " 1   Tweet_Id       int64              \n",
      " 2   Tweet          string             \n",
      " 3   Username       string             \n",
      " 4   Reply_Count    int64              \n",
      " 5   Retweet_Count  int64              \n",
      " 6   Like_Count     int64              \n",
      " 7   Bank_Search    string             \n",
      " 8   Tweet_Clean    object             \n",
      " 9   Sentiment      object             \n",
      " 10  Hate_Speech    object             \n",
      " 11  Offensive      object             \n",
      " 12  Topic_Sport    object             \n",
      "dtypes: datetime64[ns, UTC](1), int64(4), object(5), string(3)\n",
      "memory usage: 461.6+ MB\n"
     ]
    }
   ],
   "source": [
    "df.info()"
   ]
  },
  {
   "cell_type": "code",
   "execution_count": 7,
   "metadata": {},
   "outputs": [],
   "source": [
    "# get banks from tweet\n",
    "df['Bank'] = df['Tweet_Clean'].apply(get_banks)"
   ]
  },
  {
   "cell_type": "code",
   "execution_count": 8,
   "metadata": {},
   "outputs": [
    {
     "data": {
      "text/html": [
       "<div>\n",
       "<style scoped>\n",
       "    .dataframe tbody tr th:only-of-type {\n",
       "        vertical-align: middle;\n",
       "    }\n",
       "\n",
       "    .dataframe tbody tr th {\n",
       "        vertical-align: top;\n",
       "    }\n",
       "\n",
       "    .dataframe thead th {\n",
       "        text-align: right;\n",
       "    }\n",
       "</style>\n",
       "<table border=\"1\" class=\"dataframe\">\n",
       "  <thead>\n",
       "    <tr style=\"text-align: right;\">\n",
       "      <th></th>\n",
       "      <th>Datetime</th>\n",
       "      <th>Tweet_Id</th>\n",
       "      <th>Tweet</th>\n",
       "      <th>Username</th>\n",
       "      <th>Reply_Count</th>\n",
       "      <th>Retweet_Count</th>\n",
       "      <th>Like_Count</th>\n",
       "      <th>Bank_Search</th>\n",
       "      <th>Tweet_Clean</th>\n",
       "      <th>Sentiment</th>\n",
       "      <th>Hate_Speech</th>\n",
       "      <th>Offensive</th>\n",
       "      <th>Topic_Sport</th>\n",
       "      <th>Bank</th>\n",
       "    </tr>\n",
       "  </thead>\n",
       "  <tbody>\n",
       "    <tr>\n",
       "      <th>0</th>\n",
       "      <td>2011-12-31 23:48:36+00:00</td>\n",
       "      <td>153261300485591041</td>\n",
       "      <td>When I went to lunch with @da_realdeal_fnb  ht...</td>\n",
       "      <td>sheaintPHEB</td>\n",
       "      <td>0</td>\n",
       "      <td>0</td>\n",
       "      <td>0</td>\n",
       "      <td>fnb</td>\n",
       "      <td>when i went to lunch with</td>\n",
       "      <td>neutral</td>\n",
       "      <td>non-hate</td>\n",
       "      <td>non-offensive</td>\n",
       "      <td>daily_life</td>\n",
       "      <td>[]</td>\n",
       "    </tr>\n",
       "    <tr>\n",
       "      <th>1</th>\n",
       "      <td>2011-12-31 23:19:53+00:00</td>\n",
       "      <td>153254073477513216</td>\n",
       "      <td>RT @Naaomsss: HAPPY NEW YEAR MY LOVELY SCHOOLM...</td>\n",
       "      <td>Verwijderddt</td>\n",
       "      <td>0</td>\n",
       "      <td>0</td>\n",
       "      <td>0</td>\n",
       "      <td>fnb</td>\n",
       "      <td>happy new year my lovely schoolmates</td>\n",
       "      <td>positive</td>\n",
       "      <td>non-hate</td>\n",
       "      <td>non-offensive</td>\n",
       "      <td>daily_life</td>\n",
       "      <td>[]</td>\n",
       "    </tr>\n",
       "    <tr>\n",
       "      <th>2</th>\n",
       "      <td>2011-12-31 21:52:41+00:00</td>\n",
       "      <td>153232131773038592</td>\n",
       "      <td>#thinking bout her,da way she makez me feel ho...</td>\n",
       "      <td>Cormaine</td>\n",
       "      <td>1</td>\n",
       "      <td>0</td>\n",
       "      <td>0</td>\n",
       "      <td>fnb</td>\n",
       "      <td>bout herda way she makez me feel how i feel bo...</td>\n",
       "      <td>positive</td>\n",
       "      <td>non-hate</td>\n",
       "      <td>non-offensive</td>\n",
       "      <td>daily_life</td>\n",
       "      <td>[]</td>\n",
       "    </tr>\n",
       "    <tr>\n",
       "      <th>3</th>\n",
       "      <td>2011-12-31 21:04:01+00:00</td>\n",
       "      <td>153219883688136704</td>\n",
       "      <td>@alphonsines don't like to work in hotel/fnb i...</td>\n",
       "      <td>whacky_whacky</td>\n",
       "      <td>1</td>\n",
       "      <td>0</td>\n",
       "      <td>0</td>\n",
       "      <td>fnb</td>\n",
       "      <td>dont like to work in hotelfnb industry eh haha</td>\n",
       "      <td>negative</td>\n",
       "      <td>non-hate</td>\n",
       "      <td>non-offensive</td>\n",
       "      <td>pop_culture</td>\n",
       "      <td>[fnb]</td>\n",
       "    </tr>\n",
       "    <tr>\n",
       "      <th>4</th>\n",
       "      <td>2011-12-31 20:00:10+00:00</td>\n",
       "      <td>153203815078825984</td>\n",
       "      <td>@ncallegari I just got my upgrade 3 months ago...</td>\n",
       "      <td>tamiyastone</td>\n",
       "      <td>0</td>\n",
       "      <td>0</td>\n",
       "      <td>0</td>\n",
       "      <td>fnb</td>\n",
       "      <td>i just got my upgrade months ago so as soon as...</td>\n",
       "      <td>positive</td>\n",
       "      <td>non-hate</td>\n",
       "      <td>non-offensive</td>\n",
       "      <td>science_&amp;_technology</td>\n",
       "      <td>[]</td>\n",
       "    </tr>\n",
       "  </tbody>\n",
       "</table>\n",
       "</div>"
      ],
      "text/plain": [
       "                   Datetime            Tweet_Id  \\\n",
       "0 2011-12-31 23:48:36+00:00  153261300485591041   \n",
       "1 2011-12-31 23:19:53+00:00  153254073477513216   \n",
       "2 2011-12-31 21:52:41+00:00  153232131773038592   \n",
       "3 2011-12-31 21:04:01+00:00  153219883688136704   \n",
       "4 2011-12-31 20:00:10+00:00  153203815078825984   \n",
       "\n",
       "                                               Tweet       Username  \\\n",
       "0  When I went to lunch with @da_realdeal_fnb  ht...    sheaintPHEB   \n",
       "1  RT @Naaomsss: HAPPY NEW YEAR MY LOVELY SCHOOLM...   Verwijderddt   \n",
       "2  #thinking bout her,da way she makez me feel ho...       Cormaine   \n",
       "3  @alphonsines don't like to work in hotel/fnb i...  whacky_whacky   \n",
       "4  @ncallegari I just got my upgrade 3 months ago...    tamiyastone   \n",
       "\n",
       "   Reply_Count  Retweet_Count  Like_Count Bank_Search  \\\n",
       "0            0              0           0         fnb   \n",
       "1            0              0           0         fnb   \n",
       "2            1              0           0         fnb   \n",
       "3            1              0           0         fnb   \n",
       "4            0              0           0         fnb   \n",
       "\n",
       "                                         Tweet_Clean Sentiment Hate_Speech  \\\n",
       "0                          when i went to lunch with   neutral    non-hate   \n",
       "1               happy new year my lovely schoolmates  positive    non-hate   \n",
       "2  bout herda way she makez me feel how i feel bo...  positive    non-hate   \n",
       "3     dont like to work in hotelfnb industry eh haha  negative    non-hate   \n",
       "4  i just got my upgrade months ago so as soon as...  positive    non-hate   \n",
       "\n",
       "       Offensive           Topic_Sport   Bank  \n",
       "0  non-offensive            daily_life     []  \n",
       "1  non-offensive            daily_life     []  \n",
       "2  non-offensive            daily_life     []  \n",
       "3  non-offensive           pop_culture  [fnb]  \n",
       "4  non-offensive  science_&_technology     []  "
      ]
     },
     "execution_count": 8,
     "metadata": {},
     "output_type": "execute_result"
    }
   ],
   "source": [
    "df.head()"
   ]
  },
  {
   "cell_type": "code",
   "execution_count": 9,
   "metadata": {},
   "outputs": [],
   "source": [
    "# if the length of Bank is 0, then use the [bank_search in an array\n",
    "df['Bank'] = df.apply(lambda x: [x['Bank_Search']] if len(x['Bank']) == 0 else x['Bank'], axis=1)"
   ]
  },
  {
   "cell_type": "code",
   "execution_count": 10,
   "metadata": {},
   "outputs": [
    {
     "data": {
      "text/plain": [
       "1    4248496\n",
       "2      61579\n",
       "3       7954\n",
       "4       2769\n",
       "5       1065\n",
       "6          6\n",
       "7          2\n",
       "Name: Bank, dtype: int64"
      ]
     },
     "execution_count": 10,
     "metadata": {},
     "output_type": "execute_result"
    }
   ],
   "source": [
    "# print the length of Bank for each tweet\n",
    "df['Bank'].str.len().value_counts()"
   ]
  },
  {
   "cell_type": "code",
   "execution_count": 11,
   "metadata": {},
   "outputs": [],
   "source": [
    "# if the length of Bank is greater than 5, then set the Bank to a link of unique banks\n",
    "bank_list = ['fnb', 'absa', 'nedbank', 'capitec', 'standard_bank']\n",
    "df.loc[df['Bank'].str.len() > 5, 'Bank'] = df['Bank'].apply(lambda x: list(set(x) & set(bank_list)))"
   ]
  },
  {
   "cell_type": "code",
   "execution_count": 12,
   "metadata": {},
   "outputs": [
    {
     "data": {
      "text/plain": [
       "Series([], Name: Bank, dtype: object)"
      ]
     },
     "execution_count": 12,
     "metadata": {},
     "output_type": "execute_result"
    }
   ],
   "source": [
    "# print tweets where length of Bank is greater than 5\n",
    "df.loc[df['Bank'].str.len() > 5, 'Bank']"
   ]
  },
  {
   "cell_type": "code",
   "execution_count": 13,
   "metadata": {},
   "outputs": [
    {
     "data": {
      "text/plain": [
       "array(['fnb', 'absa', 'standard_bank', 'nedbank', 'capitec'], dtype=object)"
      ]
     },
     "execution_count": 13,
     "metadata": {},
     "output_type": "execute_result"
    }
   ],
   "source": [
    "# print unique values of Bank\n",
    "df['Bank'].explode().unique()"
   ]
  },
  {
   "cell_type": "code",
   "execution_count": 14,
   "metadata": {},
   "outputs": [],
   "source": [
    "# for each bank in Bank, create a new row\n",
    "df = df.explode('Bank')"
   ]
  },
  {
   "cell_type": "code",
   "execution_count": 15,
   "metadata": {},
   "outputs": [
    {
     "name": "stdout",
     "output_type": "stream",
     "text": [
      "<class 'pandas.core.frame.DataFrame'>\n",
      "Int64Index: 4411950 entries, 0 to 4469910\n",
      "Data columns (total 14 columns):\n",
      " #   Column         Dtype              \n",
      "---  ------         -----              \n",
      " 0   Datetime       datetime64[ns, UTC]\n",
      " 1   Tweet_Id       int64              \n",
      " 2   Tweet          string             \n",
      " 3   Username       string             \n",
      " 4   Reply_Count    int64              \n",
      " 5   Retweet_Count  int64              \n",
      " 6   Like_Count     int64              \n",
      " 7   Bank_Search    string             \n",
      " 8   Tweet_Clean    object             \n",
      " 9   Sentiment      object             \n",
      " 10  Hate_Speech    object             \n",
      " 11  Offensive      object             \n",
      " 12  Topic_Sport    object             \n",
      " 13  Bank           object             \n",
      "dtypes: datetime64[ns, UTC](1), int64(4), object(6), string(3)\n",
      "memory usage: 504.9+ MB\n"
     ]
    }
   ],
   "source": [
    "df.info()"
   ]
  },
  {
   "cell_type": "code",
   "execution_count": 16,
   "metadata": {},
   "outputs": [
    {
     "data": {
      "text/html": [
       "<div>\n",
       "<style scoped>\n",
       "    .dataframe tbody tr th:only-of-type {\n",
       "        vertical-align: middle;\n",
       "    }\n",
       "\n",
       "    .dataframe tbody tr th {\n",
       "        vertical-align: top;\n",
       "    }\n",
       "\n",
       "    .dataframe thead th {\n",
       "        text-align: right;\n",
       "    }\n",
       "</style>\n",
       "<table border=\"1\" class=\"dataframe\">\n",
       "  <thead>\n",
       "    <tr style=\"text-align: right;\">\n",
       "      <th></th>\n",
       "      <th>Tweet_Id</th>\n",
       "      <th>Bank</th>\n",
       "    </tr>\n",
       "  </thead>\n",
       "  <tbody>\n",
       "    <tr>\n",
       "      <th>37</th>\n",
       "      <td>153050311525797889</td>\n",
       "      <td>fnb</td>\n",
       "    </tr>\n",
       "    <tr>\n",
       "      <th>37</th>\n",
       "      <td>153050311525797889</td>\n",
       "      <td>absa</td>\n",
       "    </tr>\n",
       "    <tr>\n",
       "      <th>38</th>\n",
       "      <td>153050110396346369</td>\n",
       "      <td>fnb</td>\n",
       "    </tr>\n",
       "    <tr>\n",
       "      <th>38</th>\n",
       "      <td>153050110396346369</td>\n",
       "      <td>absa</td>\n",
       "    </tr>\n",
       "    <tr>\n",
       "      <th>57</th>\n",
       "      <td>153027837283139584</td>\n",
       "      <td>fnb</td>\n",
       "    </tr>\n",
       "    <tr>\n",
       "      <th>...</th>\n",
       "      <td>...</td>\n",
       "      <td>...</td>\n",
       "    </tr>\n",
       "    <tr>\n",
       "      <th>4469874</th>\n",
       "      <td>641162604120014848</td>\n",
       "      <td>standard_bank</td>\n",
       "    </tr>\n",
       "    <tr>\n",
       "      <th>4469888</th>\n",
       "      <td>606058966485975040</td>\n",
       "      <td>standard_bank</td>\n",
       "    </tr>\n",
       "    <tr>\n",
       "      <th>4469888</th>\n",
       "      <td>606058966485975040</td>\n",
       "      <td>standard_bank</td>\n",
       "    </tr>\n",
       "    <tr>\n",
       "      <th>4469894</th>\n",
       "      <td>598489390407622659</td>\n",
       "      <td>standard_bank</td>\n",
       "    </tr>\n",
       "    <tr>\n",
       "      <th>4469894</th>\n",
       "      <td>598489390407622659</td>\n",
       "      <td>standard_bank</td>\n",
       "    </tr>\n",
       "  </tbody>\n",
       "</table>\n",
       "<p>163454 rows × 2 columns</p>\n",
       "</div>"
      ],
      "text/plain": [
       "                   Tweet_Id           Bank\n",
       "37       153050311525797889            fnb\n",
       "37       153050311525797889           absa\n",
       "38       153050110396346369            fnb\n",
       "38       153050110396346369           absa\n",
       "57       153027837283139584            fnb\n",
       "...                     ...            ...\n",
       "4469874  641162604120014848  standard_bank\n",
       "4469888  606058966485975040  standard_bank\n",
       "4469888  606058966485975040  standard_bank\n",
       "4469894  598489390407622659  standard_bank\n",
       "4469894  598489390407622659  standard_bank\n",
       "\n",
       "[163454 rows x 2 columns]"
      ]
     },
     "execution_count": 16,
     "metadata": {},
     "output_type": "execute_result"
    }
   ],
   "source": [
    "# print duplicates based on Tweet_Id\n",
    "df[['Tweet_Id', 'Bank']][df.duplicated(subset=['Tweet_Id'], keep=False)]"
   ]
  },
  {
   "cell_type": "code",
   "execution_count": 17,
   "metadata": {},
   "outputs": [
    {
     "data": {
      "text/html": [
       "<div>\n",
       "<style scoped>\n",
       "    .dataframe tbody tr th:only-of-type {\n",
       "        vertical-align: middle;\n",
       "    }\n",
       "\n",
       "    .dataframe tbody tr th {\n",
       "        vertical-align: top;\n",
       "    }\n",
       "\n",
       "    .dataframe thead th {\n",
       "        text-align: right;\n",
       "    }\n",
       "</style>\n",
       "<table border=\"1\" class=\"dataframe\">\n",
       "  <thead>\n",
       "    <tr style=\"text-align: right;\">\n",
       "      <th></th>\n",
       "      <th>Tweet_Id</th>\n",
       "      <th>hashtag_0</th>\n",
       "      <th>hashtag_1</th>\n",
       "      <th>hashtag_2</th>\n",
       "      <th>hashtag_3</th>\n",
       "      <th>hashtag_4</th>\n",
       "      <th>hashtag_5</th>\n",
       "      <th>hashtag_6</th>\n",
       "      <th>hashtag_7</th>\n",
       "      <th>hashtag_8</th>\n",
       "      <th>...</th>\n",
       "      <th>hashtag_22</th>\n",
       "      <th>hashtag_23</th>\n",
       "      <th>hashtag_24</th>\n",
       "      <th>hashtag_25</th>\n",
       "      <th>hashtag_26</th>\n",
       "      <th>hashtag_27</th>\n",
       "      <th>hashtag_28</th>\n",
       "      <th>hashtag_29</th>\n",
       "      <th>hashtag_30</th>\n",
       "      <th>Bank</th>\n",
       "    </tr>\n",
       "  </thead>\n",
       "  <tbody>\n",
       "    <tr>\n",
       "      <th>0</th>\n",
       "      <td>153261300485591041</td>\n",
       "      <td></td>\n",
       "      <td></td>\n",
       "      <td></td>\n",
       "      <td></td>\n",
       "      <td></td>\n",
       "      <td></td>\n",
       "      <td></td>\n",
       "      <td></td>\n",
       "      <td></td>\n",
       "      <td>...</td>\n",
       "      <td></td>\n",
       "      <td></td>\n",
       "      <td></td>\n",
       "      <td></td>\n",
       "      <td></td>\n",
       "      <td></td>\n",
       "      <td></td>\n",
       "      <td></td>\n",
       "      <td></td>\n",
       "      <td>fnb</td>\n",
       "    </tr>\n",
       "    <tr>\n",
       "      <th>1</th>\n",
       "      <td>153254073477513216</td>\n",
       "      <td></td>\n",
       "      <td></td>\n",
       "      <td></td>\n",
       "      <td></td>\n",
       "      <td></td>\n",
       "      <td></td>\n",
       "      <td></td>\n",
       "      <td></td>\n",
       "      <td></td>\n",
       "      <td>...</td>\n",
       "      <td></td>\n",
       "      <td></td>\n",
       "      <td></td>\n",
       "      <td></td>\n",
       "      <td></td>\n",
       "      <td></td>\n",
       "      <td></td>\n",
       "      <td></td>\n",
       "      <td></td>\n",
       "      <td>fnb</td>\n",
       "    </tr>\n",
       "    <tr>\n",
       "      <th>2</th>\n",
       "      <td>153232131773038592</td>\n",
       "      <td>madlove</td>\n",
       "      <td>FNB</td>\n",
       "      <td>thinking</td>\n",
       "      <td></td>\n",
       "      <td></td>\n",
       "      <td></td>\n",
       "      <td></td>\n",
       "      <td></td>\n",
       "      <td></td>\n",
       "      <td>...</td>\n",
       "      <td></td>\n",
       "      <td></td>\n",
       "      <td></td>\n",
       "      <td></td>\n",
       "      <td></td>\n",
       "      <td></td>\n",
       "      <td></td>\n",
       "      <td></td>\n",
       "      <td></td>\n",
       "      <td>fnb</td>\n",
       "    </tr>\n",
       "    <tr>\n",
       "      <th>3</th>\n",
       "      <td>153219883688136704</td>\n",
       "      <td></td>\n",
       "      <td></td>\n",
       "      <td></td>\n",
       "      <td></td>\n",
       "      <td></td>\n",
       "      <td></td>\n",
       "      <td></td>\n",
       "      <td></td>\n",
       "      <td></td>\n",
       "      <td>...</td>\n",
       "      <td></td>\n",
       "      <td></td>\n",
       "      <td></td>\n",
       "      <td></td>\n",
       "      <td></td>\n",
       "      <td></td>\n",
       "      <td></td>\n",
       "      <td></td>\n",
       "      <td></td>\n",
       "      <td>fnb</td>\n",
       "    </tr>\n",
       "    <tr>\n",
       "      <th>4</th>\n",
       "      <td>153203815078825984</td>\n",
       "      <td>FNB</td>\n",
       "      <td></td>\n",
       "      <td></td>\n",
       "      <td></td>\n",
       "      <td></td>\n",
       "      <td></td>\n",
       "      <td></td>\n",
       "      <td></td>\n",
       "      <td></td>\n",
       "      <td>...</td>\n",
       "      <td></td>\n",
       "      <td></td>\n",
       "      <td></td>\n",
       "      <td></td>\n",
       "      <td></td>\n",
       "      <td></td>\n",
       "      <td></td>\n",
       "      <td></td>\n",
       "      <td></td>\n",
       "      <td>fnb</td>\n",
       "    </tr>\n",
       "  </tbody>\n",
       "</table>\n",
       "<p>5 rows × 33 columns</p>\n",
       "</div>"
      ],
      "text/plain": [
       "             Tweet_Id hashtag_0 hashtag_1 hashtag_2 hashtag_3 hashtag_4  \\\n",
       "0  153261300485591041                                                     \n",
       "1  153254073477513216                                                     \n",
       "2  153232131773038592   madlove       FNB  thinking                       \n",
       "3  153219883688136704                                                     \n",
       "4  153203815078825984       FNB                                           \n",
       "\n",
       "  hashtag_5 hashtag_6 hashtag_7 hashtag_8  ... hashtag_22 hashtag_23  \\\n",
       "0                                          ...                         \n",
       "1                                          ...                         \n",
       "2                                          ...                         \n",
       "3                                          ...                         \n",
       "4                                          ...                         \n",
       "\n",
       "  hashtag_24 hashtag_25 hashtag_26 hashtag_27 hashtag_28 hashtag_29  \\\n",
       "0                                                                     \n",
       "1                                                                     \n",
       "2                                                                     \n",
       "3                                                                     \n",
       "4                                                                     \n",
       "\n",
       "  hashtag_30 Bank  \n",
       "0             fnb  \n",
       "1             fnb  \n",
       "2             fnb  \n",
       "3             fnb  \n",
       "4             fnb  \n",
       "\n",
       "[5 rows x 33 columns]"
      ]
     },
     "execution_count": 17,
     "metadata": {},
     "output_type": "execute_result"
    }
   ],
   "source": [
    "# generate df_hashtags\n",
    "df_hashtags = generate_df_hashtags(df)\n",
    "df_hashtags.head()"
   ]
  },
  {
   "cell_type": "code",
   "execution_count": 18,
   "metadata": {},
   "outputs": [
    {
     "name": "stdout",
     "output_type": "stream",
     "text": [
      "<class 'pandas.core.frame.DataFrame'>\n",
      "Int64Index: 4411950 entries, 0 to 4469910\n",
      "Data columns (total 14 columns):\n",
      " #   Column         Dtype              \n",
      "---  ------         -----              \n",
      " 0   Datetime       datetime64[ns, UTC]\n",
      " 1   Tweet_Id       int64              \n",
      " 2   Tweet          string             \n",
      " 3   Username       string             \n",
      " 4   Reply_Count    int64              \n",
      " 5   Retweet_Count  int64              \n",
      " 6   Like_Count     int64              \n",
      " 7   Bank_Search    string             \n",
      " 8   Tweet_Clean    object             \n",
      " 9   Sentiment      object             \n",
      " 10  Hate_Speech    object             \n",
      " 11  Offensive      object             \n",
      " 12  Topic_Sport    object             \n",
      " 13  Bank           object             \n",
      "dtypes: datetime64[ns, UTC](1), int64(4), object(6), string(3)\n",
      "memory usage: 504.9+ MB\n"
     ]
    }
   ],
   "source": [
    "df.info()"
   ]
  },
  {
   "cell_type": "code",
   "execution_count": 19,
   "metadata": {},
   "outputs": [],
   "source": [
    "# drop Tweet column\n",
    "df.drop(columns=['Tweet', 'Bank_Search'], inplace=True)\n",
    "# Put Tweet_Clean to the end of the dataframe\n",
    "df = df[['Datetime', 'Tweet_Id', 'Username', 'Retweet_Count', 'Reply_Count', 'Like_Count', 'Sentiment', 'Hate_Speech', 'Offensive', 'Topic_Sport', 'Tweet_Clean']]"
   ]
  },
  {
   "cell_type": "code",
   "execution_count": 20,
   "metadata": {},
   "outputs": [],
   "source": [
    "# set the dtypes of the columns\n",
    "df['Datetime'] = pd.to_datetime(df['Datetime'])\n",
    "df['Tweet_Id'] = df['Tweet_Id'].astype('int64')\n",
    "df['Username'] = df['Username'].astype('string')\n",
    "df['Retweet_Count'] = df['Retweet_Count'].astype('int64')\n",
    "df['Reply_Count'] = df['Reply_Count'].astype('int64')\n",
    "df['Like_Count'] = df['Like_Count'].astype('int64')\n",
    "df['Sentiment'] = df['Sentiment'].astype('string')\n",
    "df['Hate_Speech'] = df['Hate_Speech'].astype('string')\n",
    "df['Offensive'] = df['Offensive'].astype('string')\n",
    "df['Topic_Sport'] = df['Topic_Sport'].astype('string')\n",
    "df['Tweet_Clean'] = df['Tweet_Clean'].astype('string')"
   ]
  },
  {
   "cell_type": "code",
   "execution_count": 21,
   "metadata": {},
   "outputs": [],
   "source": [
    "# df and df_hashtags using parquet\n",
    "df.to_parquet('Analysis_results/df_to_splitter.parquet')\n",
    "df_hashtags.to_parquet('Analysis_results/df_hashtags_to_splitter.parquet')"
   ]
  },
  {
   "cell_type": "code",
   "execution_count": null,
   "metadata": {},
   "outputs": [],
   "source": []
  }
 ],
 "metadata": {
  "kernelspec": {
   "display_name": "nlp2",
   "language": "python",
   "name": "python3"
  },
  "language_info": {
   "codemirror_mode": {
    "name": "ipython",
    "version": 3
   },
   "file_extension": ".py",
   "mimetype": "text/x-python",
   "name": "python",
   "nbconvert_exporter": "python",
   "pygments_lexer": "ipython3",
   "version": "3.10.9"
  },
  "orig_nbformat": 4,
  "vscode": {
   "interpreter": {
    "hash": "189d0dc8866ae7c5243aefd5f9406ad445cf891fd6327591c18ad9e9bef8b20d"
   }
  }
 },
 "nbformat": 4,
 "nbformat_minor": 2
}
