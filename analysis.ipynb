{
 "cells": [
  {
   "cell_type": "code",
   "execution_count": 2,
   "metadata": {},
   "outputs": [
    {
     "name": "stderr",
     "output_type": "stream",
     "text": [
      "Some weights of the model checkpoint at cardiffnlp/twitter-roberta-base-sentiment-latest were not used when initializing RobertaForSequenceClassification: ['roberta.pooler.dense.weight', 'roberta.pooler.dense.bias']\n",
      "- This IS expected if you are initializing RobertaForSequenceClassification from the checkpoint of a model trained on another task or with another architecture (e.g. initializing a BertForSequenceClassification model from a BertForPreTraining model).\n",
      "- This IS NOT expected if you are initializing RobertaForSequenceClassification from the checkpoint of a model that you expect to be exactly identical (initializing a BertForSequenceClassification model from a BertForSequenceClassification model).\n"
     ]
    }
   ],
   "source": [
    "import pandas as pd\n",
    "import matplotlib.pyplot as plt\n",
    "import glob\n",
    "from utilities import clean_tweet\n",
    "from tqdm.notebook import tqdm\n",
    "tqdm.pandas()\n",
    "import tweetnlp\n",
    "\n",
    "def get_pred(model, tweet):\n",
    "    ouput = model.predict(tweet)\n",
    "    return ouput['label'] \n",
    "\n",
    "\n",
    "# Load models from tweetnlp\n",
    "model_hate_speech = tweetnlp.load_model('hate')\n",
    "model_offensive_language = tweetnlp.load_model('offensive')\n",
    "model_sentiment = tweetnlp.load_model('sentiment')\n",
    "model_topic = tweetnlp.load_model('topic_classification', multi_label=False) "
   ]
  },
  {
   "cell_type": "code",
   "execution_count": 3,
   "metadata": {},
   "outputs": [],
   "source": [
    "# Read all parquet files from Tweets folder and concatenate them all into one dataframe\n",
    "df_full = pd.concat([pd.read_parquet(f) for f in glob.glob('Tweets/*.parquet')], ignore_index = True)"
   ]
  },
  {
   "cell_type": "code",
   "execution_count": 6,
   "metadata": {},
   "outputs": [
    {
     "data": {
      "application/vnd.jupyter.widget-view+json": {
       "model_id": "448382fe49bb4c2ca74f74040ae03c97",
       "version_major": 2,
       "version_minor": 0
      },
      "text/plain": [
       "  0%|          | 0/1000 [00:00<?, ?it/s]"
      ]
     },
     "metadata": {},
     "output_type": "display_data"
    },
    {
     "data": {
      "application/vnd.jupyter.widget-view+json": {
       "model_id": "d389e6b1bcf248d1bc3efbeca9aa8405",
       "version_major": 2,
       "version_minor": 0
      },
      "text/plain": [
       "  0%|          | 0/1000 [00:00<?, ?it/s]"
      ]
     },
     "metadata": {},
     "output_type": "display_data"
    }
   ],
   "source": [
    "# sample 1000 tweets\n",
    "df = df_full.sample(1000)\n",
    "df['Tweet_Clean'] = df['Tweet'].progress_apply(lambda x: clean_tweet(x))\n",
    "\n",
    "# df['Tweet_Clean'] = df['Tweet'].progress_apply(lambda x: clean_tweet(x))\n",
    "df['Sentiment'] = df['Tweet_Clean'].apply(lambda x: get_pred(model_sentiment, x))\n",
    "df['Hate_Speech'] = df['Tweet_Clean'].progress_apply(lambda x: get_pred(model_hate_speech, x))\n",
    "df['Offensive'] = df['Tweet_Clean'].apply(lambda x: get_pred(model_offensive_language, x))\n",
    "df['Topic_Sport'] = df['Tweet_Clean'].apply(lambda x: get_pred(model_topic, x))\n"
   ]
  },
  {
   "cell_type": "code",
   "execution_count": 7,
   "metadata": {},
   "outputs": [
    {
     "data": {
      "text/html": [
       "<div>\n",
       "<style scoped>\n",
       "    .dataframe tbody tr th:only-of-type {\n",
       "        vertical-align: middle;\n",
       "    }\n",
       "\n",
       "    .dataframe tbody tr th {\n",
       "        vertical-align: top;\n",
       "    }\n",
       "\n",
       "    .dataframe thead th {\n",
       "        text-align: right;\n",
       "    }\n",
       "</style>\n",
       "<table border=\"1\" class=\"dataframe\">\n",
       "  <thead>\n",
       "    <tr style=\"text-align: right;\">\n",
       "      <th></th>\n",
       "      <th>Datetime</th>\n",
       "      <th>Tweet_Id</th>\n",
       "      <th>Tweet</th>\n",
       "      <th>Username</th>\n",
       "      <th>Reply_Count</th>\n",
       "      <th>Retweet_Count</th>\n",
       "      <th>Like_Count</th>\n",
       "      <th>Bank</th>\n",
       "      <th>Tweet_Clean</th>\n",
       "      <th>Sentiment</th>\n",
       "      <th>Hate_Speech</th>\n",
       "      <th>Offensive</th>\n",
       "      <th>Topic_Sport</th>\n",
       "    </tr>\n",
       "  </thead>\n",
       "  <tbody>\n",
       "    <tr>\n",
       "      <th>2550204</th>\n",
       "      <td>2014-03-28 07:06:27+00:00</td>\n",
       "      <td>449442375098957824</td>\n",
       "      <td>@CapitecBankSA I would pay d balance that I ow...</td>\n",
       "      <td>Lindimadiba</td>\n",
       "      <td>0</td>\n",
       "      <td>0</td>\n",
       "      <td>0</td>\n",
       "      <td>capitec</td>\n",
       "      <td>i would pay d balance that i owe to get my dip...</td>\n",
       "      <td>neutral</td>\n",
       "      <td>non-hate</td>\n",
       "      <td>non-offensive</td>\n",
       "      <td>business_&amp;_entrepreneurs</td>\n",
       "    </tr>\n",
       "    <tr>\n",
       "      <th>889896</th>\n",
       "      <td>2018-10-02 08:17:43+00:00</td>\n",
       "      <td>1047037900620206081</td>\n",
       "      <td>Am I the only one struggling to log onto my @F...</td>\n",
       "      <td>Ms_Hloni</td>\n",
       "      <td>0</td>\n",
       "      <td>0</td>\n",
       "      <td>0</td>\n",
       "      <td>fnb</td>\n",
       "      <td>am i the only one struggling to log onto my app</td>\n",
       "      <td>negative</td>\n",
       "      <td>non-hate</td>\n",
       "      <td>non-offensive</td>\n",
       "      <td>science_&amp;_technology</td>\n",
       "    </tr>\n",
       "    <tr>\n",
       "      <th>3204201</th>\n",
       "      <td>2020-09-21 12:01:05+00:00</td>\n",
       "      <td>1308013377223110657</td>\n",
       "      <td>@busrep Definitely agree that the banks, and n...</td>\n",
       "      <td>ResDevFGroup</td>\n",
       "      <td>0</td>\n",
       "      <td>0</td>\n",
       "      <td>0</td>\n",
       "      <td>fnb</td>\n",
       "      <td>definitely agree that the banks and notably do...</td>\n",
       "      <td>negative</td>\n",
       "      <td>non-hate</td>\n",
       "      <td>non-offensive</td>\n",
       "      <td>business_&amp;_entrepreneurs</td>\n",
       "    </tr>\n",
       "    <tr>\n",
       "      <th>3008857</th>\n",
       "      <td>2021-03-30 08:23:13+00:00</td>\n",
       "      <td>1376812242109394950</td>\n",
       "      <td>@Nedbank I managed to process a payment late a...</td>\n",
       "      <td>Asiphe50</td>\n",
       "      <td>1</td>\n",
       "      <td>0</td>\n",
       "      <td>0</td>\n",
       "      <td>nedbank</td>\n",
       "      <td>i managed to process a payment late afternoon ...</td>\n",
       "      <td>negative</td>\n",
       "      <td>non-hate</td>\n",
       "      <td>non-offensive</td>\n",
       "      <td>business_&amp;_entrepreneurs</td>\n",
       "    </tr>\n",
       "    <tr>\n",
       "      <th>420307</th>\n",
       "      <td>2017-05-28 10:13:37+00:00</td>\n",
       "      <td>868772239562473472</td>\n",
       "      <td>@Orlando_Pirates You let us down this season b...</td>\n",
       "      <td>matshoba_nelson</td>\n",
       "      <td>0</td>\n",
       "      <td>0</td>\n",
       "      <td>1</td>\n",
       "      <td>nedbank</td>\n",
       "      <td>you let us down this season but we love you ju...</td>\n",
       "      <td>positive</td>\n",
       "      <td>non-hate</td>\n",
       "      <td>non-offensive</td>\n",
       "      <td>sports_&amp;_gaming</td>\n",
       "    </tr>\n",
       "  </tbody>\n",
       "</table>\n",
       "</div>"
      ],
      "text/plain": [
       "                         Datetime             Tweet_Id  \\\n",
       "2550204 2014-03-28 07:06:27+00:00   449442375098957824   \n",
       "889896  2018-10-02 08:17:43+00:00  1047037900620206081   \n",
       "3204201 2020-09-21 12:01:05+00:00  1308013377223110657   \n",
       "3008857 2021-03-30 08:23:13+00:00  1376812242109394950   \n",
       "420307  2017-05-28 10:13:37+00:00   868772239562473472   \n",
       "\n",
       "                                                     Tweet         Username  \\\n",
       "2550204  @CapitecBankSA I would pay d balance that I ow...      Lindimadiba   \n",
       "889896   Am I the only one struggling to log onto my @F...         Ms_Hloni   \n",
       "3204201  @busrep Definitely agree that the banks, and n...     ResDevFGroup   \n",
       "3008857  @Nedbank I managed to process a payment late a...         Asiphe50   \n",
       "420307   @Orlando_Pirates You let us down this season b...  matshoba_nelson   \n",
       "\n",
       "         Reply_Count  Retweet_Count  Like_Count     Bank  \\\n",
       "2550204            0              0           0  capitec   \n",
       "889896             0              0           0      fnb   \n",
       "3204201            0              0           0      fnb   \n",
       "3008857            1              0           0  nedbank   \n",
       "420307             0              0           1  nedbank   \n",
       "\n",
       "                                               Tweet_Clean Sentiment  \\\n",
       "2550204  i would pay d balance that i owe to get my dip...   neutral   \n",
       "889896     am i the only one struggling to log onto my app  negative   \n",
       "3204201  definitely agree that the banks and notably do...  negative   \n",
       "3008857  i managed to process a payment late afternoon ...  negative   \n",
       "420307   you let us down this season but we love you ju...  positive   \n",
       "\n",
       "        Hate_Speech      Offensive               Topic_Sport  \n",
       "2550204    non-hate  non-offensive  business_&_entrepreneurs  \n",
       "889896     non-hate  non-offensive      science_&_technology  \n",
       "3204201    non-hate  non-offensive  business_&_entrepreneurs  \n",
       "3008857    non-hate  non-offensive  business_&_entrepreneurs  \n",
       "420307     non-hate  non-offensive           sports_&_gaming  "
      ]
     },
     "execution_count": 7,
     "metadata": {},
     "output_type": "execute_result"
    }
   ],
   "source": [
    "df.head()"
   ]
  },
  {
   "cell_type": "code",
   "execution_count": 8,
   "metadata": {},
   "outputs": [],
   "source": [
    "df.to_csv(\"100_samples.csv\", index=False)"
   ]
  },
  {
   "cell_type": "code",
   "execution_count": null,
   "metadata": {},
   "outputs": [],
   "source": [
    "# df['Offensive'] = df['Tweet_Clean'].apply(lambda x: get_pred(model_offensive_language, x))"
   ]
  },
  {
   "cell_type": "code",
   "execution_count": null,
   "metadata": {},
   "outputs": [],
   "source": [
    "# df['Topic_Sport'] = df['Tweet_Clean'].apply(lambda x: get_pred(model_topic, x))"
   ]
  }
 ],
 "metadata": {
  "kernelspec": {
   "display_name": "Python 3 (ipykernel)",
   "language": "python",
   "name": "python3"
  },
  "language_info": {
   "codemirror_mode": {
    "name": "ipython",
    "version": 3
   },
   "file_extension": ".py",
   "mimetype": "text/x-python",
   "name": "python",
   "nbconvert_exporter": "python",
   "pygments_lexer": "ipython3",
   "version": "3.10.9 (main, Jan 11 2023, 15:21:40) [GCC 11.2.0]"
  },
  "vscode": {
   "interpreter": {
    "hash": "189d0dc8866ae7c5243aefd5f9406ad445cf891fd6327591c18ad9e9bef8b20d"
   }
  }
 },
 "nbformat": 4,
 "nbformat_minor": 2
}
