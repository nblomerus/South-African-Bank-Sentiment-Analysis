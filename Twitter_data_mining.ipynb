{
 "cells": [
  {
   "cell_type": "code",
   "execution_count": 1,
   "id": "6a688528",
   "metadata": {
    "scrolled": true
   },
   "outputs": [],
   "source": [
    "import snscrape.modules.twitter as sntwitter\n",
    "import pandas as pd\n",
    "import datetime as dt\n",
    "from datetime import datetime\n",
    "import pytz\n",
    "from tqdm.notebook import tqdm"
   ]
  },
  {
   "cell_type": "code",
   "execution_count": 2,
   "id": "395ae1b8",
   "metadata": {},
   "outputs": [],
   "source": [
    "def scrap_twitter_single_search(bank, search_term, start_date, end_date):\n",
    "    # pytz to localize the date\n",
    "    utc=pytz.UTC\n",
    "    \n",
    "    # Converting start_date and end_date to datetime objects\n",
    "    start_date = utc.localize(datetime.strptime(start_date, \"%Y-%m-%d\"))\n",
    "    end_date = utc.localize(datetime.strptime(end_date, \"%Y-%m-%d\"))\n",
    "\n",
    "    # Creating list to append tweet data to\n",
    "    tweets_list = []\n",
    "\n",
    "    # Using TwitterSearchScraper to scrape data and append tweets to list\n",
    "    for i,tweet in enumerate(sntwitter.TwitterSearchScraper(f'{search_term} since:{start_date:%Y-%m-%d} until:{end_date:%Y-%m-%d} lang:en').get_items()):\n",
    "        \n",
    "        # Checking if tweet date is before start_date \n",
    "        if tweet.date < start_date:\n",
    "            break\n",
    "\n",
    "        tweets_list.append([tweet.date, tweet.id, tweet.rawContent, tweet.user.username, tweet.replyCount, tweet.retweetCount, tweet.likeCount])\n",
    "\n",
    "    # Creating a dataframe from the tweets list above\n",
    "    tweets_df = pd.DataFrame(tweets_list, columns=['Datetime', 'Tweet_Id', 'Text', 'Username', 'Reply_Count', 'Retweet_Count', 'Like_Count'])\n",
    "    \n",
    "    # Adding Bank column to the dataframe\n",
    "    tweets_df[\"Bank\"] = bank\n",
    "    \n",
    "    return tweets_df\n",
    "\n",
    "def scrap_twitter_multiple_search(bank_dict, start_date, end_date):\n",
    "    \n",
    "    dfs = []\n",
    "    \n",
    "    # Loop through banks\n",
    "    for bank in tqdm(bank_dict.keys(), total=len(bank_dict)):\n",
    " \n",
    "        # Loop through each search term per bank\n",
    "        for search_term in tqdm(bank_dict[bank], total=len(bank_dict[bank])):\n",
    "            dfs.append(scrap_twitter_single_search(bank, search_term, start_date, end_date))\n",
    "\n",
    "    # Concatenate multiple dataframes and drop duplicate tweets\n",
    "    result = pd.concat(dfs).drop_duplicates()\n",
    "    \n",
    "    return result"
   ]
  },
  {
   "cell_type": "code",
   "execution_count": 3,
   "id": "23dae46e",
   "metadata": {
    "scrolled": false
   },
   "outputs": [],
   "source": [
    "start_date = '2019-01-01'\n",
    "end_date = '2019-01-02'\n",
    "\n",
    "bank_dict = {'fnb': ['fnb', 'FNBSA', 'fnbSouthAfrica'],\n",
    "             'absa': ['absa', 'absaSA', 'ABSASouthAfrica'],\n",
    "             'nedbank': ['nedbank', 'NEDBANKSA', 'nedbankSouthAfrica'],\n",
    "             'capitec': ['capitec', 'CapitecBank', 'capitecSA'],\n",
    "             'standard_bank': ['standard bank','standardbank', 'StandardbankSA']}"
   ]
  },
  {
   "cell_type": "code",
   "execution_count": 4,
   "id": "f5593247",
   "metadata": {},
   "outputs": [
    {
     "data": {
      "application/vnd.jupyter.widget-view+json": {
       "model_id": "0ec2c1e4aac74143bf9c3e72e16260ea",
       "version_major": 2,
       "version_minor": 0
      },
      "text/plain": [
       "  0%|          | 0/5 [00:00<?, ?it/s]"
      ]
     },
     "metadata": {},
     "output_type": "display_data"
    },
    {
     "data": {
      "application/vnd.jupyter.widget-view+json": {
       "model_id": "1341fc5922514240b2a75444f9a1aed2",
       "version_major": 2,
       "version_minor": 0
      },
      "text/plain": [
       "  0%|          | 0/3 [00:00<?, ?it/s]"
      ]
     },
     "metadata": {},
     "output_type": "display_data"
    },
    {
     "data": {
      "application/vnd.jupyter.widget-view+json": {
       "model_id": "42d55f5161394c719d175cf12e6e0f2a",
       "version_major": 2,
       "version_minor": 0
      },
      "text/plain": [
       "  0%|          | 0/3 [00:00<?, ?it/s]"
      ]
     },
     "metadata": {},
     "output_type": "display_data"
    },
    {
     "data": {
      "application/vnd.jupyter.widget-view+json": {
       "model_id": "aedc4c0f207746eeb99433e46d08ebd0",
       "version_major": 2,
       "version_minor": 0
      },
      "text/plain": [
       "  0%|          | 0/3 [00:00<?, ?it/s]"
      ]
     },
     "metadata": {},
     "output_type": "display_data"
    },
    {
     "data": {
      "application/vnd.jupyter.widget-view+json": {
       "model_id": "b569ff8087da4cc3a99559c41c7ec426",
       "version_major": 2,
       "version_minor": 0
      },
      "text/plain": [
       "  0%|          | 0/3 [00:00<?, ?it/s]"
      ]
     },
     "metadata": {},
     "output_type": "display_data"
    },
    {
     "data": {
      "application/vnd.jupyter.widget-view+json": {
       "model_id": "c1bcf4840068482dbffd43910859e7f4",
       "version_major": 2,
       "version_minor": 0
      },
      "text/plain": [
       "  0%|          | 0/3 [00:00<?, ?it/s]"
      ]
     },
     "metadata": {},
     "output_type": "display_data"
    }
   ],
   "source": [
    "df = scrap_twitter_multiple_search(bank_dict, start_date, end_date)"
   ]
  },
  {
   "cell_type": "code",
   "execution_count": 5,
   "id": "8864af0f",
   "metadata": {},
   "outputs": [
    {
     "data": {
      "text/html": [
       "<div>\n",
       "<style scoped>\n",
       "    .dataframe tbody tr th:only-of-type {\n",
       "        vertical-align: middle;\n",
       "    }\n",
       "\n",
       "    .dataframe tbody tr th {\n",
       "        vertical-align: top;\n",
       "    }\n",
       "\n",
       "    .dataframe thead th {\n",
       "        text-align: right;\n",
       "    }\n",
       "</style>\n",
       "<table border=\"1\" class=\"dataframe\">\n",
       "  <thead>\n",
       "    <tr style=\"text-align: right;\">\n",
       "      <th></th>\n",
       "      <th>Datetime</th>\n",
       "      <th>Tweet_Id</th>\n",
       "      <th>Text</th>\n",
       "      <th>Username</th>\n",
       "      <th>Reply_Count</th>\n",
       "      <th>Retweet_Count</th>\n",
       "      <th>Like_Count</th>\n",
       "      <th>Bank</th>\n",
       "    </tr>\n",
       "  </thead>\n",
       "  <tbody>\n",
       "    <tr>\n",
       "      <th>2</th>\n",
       "      <td>2019-01-01 22:29:20+00:00</td>\n",
       "      <td>1080229514712678400</td>\n",
       "      <td>Them Ⓜ️'s coming in I let 'em stack up 💰 Don't...</td>\n",
       "      <td>fnb_justo</td>\n",
       "      <td>0</td>\n",
       "      <td>1</td>\n",
       "      <td>11</td>\n",
       "      <td>fnb</td>\n",
       "    </tr>\n",
       "    <tr>\n",
       "      <th>0</th>\n",
       "      <td>2019-01-01 23:32:42+00:00</td>\n",
       "      <td>1080245458730184704</td>\n",
       "      <td>@SlowbucksAce Trippin 🤦🏽‍♂️ gotta give it to g...</td>\n",
       "      <td>fnb_justo</td>\n",
       "      <td>0</td>\n",
       "      <td>0</td>\n",
       "      <td>3</td>\n",
       "      <td>fnb</td>\n",
       "    </tr>\n",
       "    <tr>\n",
       "      <th>1</th>\n",
       "      <td>2019-01-01 22:36:31+00:00</td>\n",
       "      <td>1080231323552411650</td>\n",
       "      <td>Fake news or nah, I needed to see that SMS fro...</td>\n",
       "      <td>BangDulamo_ZA</td>\n",
       "      <td>0</td>\n",
       "      <td>0</td>\n",
       "      <td>0</td>\n",
       "      <td>fnb</td>\n",
       "    </tr>\n",
       "    <tr>\n",
       "      <th>3</th>\n",
       "      <td>2019-01-01 21:55:39+00:00</td>\n",
       "      <td>1080221037395169280</td>\n",
       "      <td>FNB is so annoying with their unauthorized deb...</td>\n",
       "      <td>babyLangah</td>\n",
       "      <td>0</td>\n",
       "      <td>0</td>\n",
       "      <td>0</td>\n",
       "      <td>fnb</td>\n",
       "    </tr>\n",
       "    <tr>\n",
       "      <th>4</th>\n",
       "      <td>2019-01-01 21:38:11+00:00</td>\n",
       "      <td>1080216641684819968</td>\n",
       "      <td>@hothaata Forget the critics let's start 2019 ...</td>\n",
       "      <td>NavasExpert</td>\n",
       "      <td>0</td>\n",
       "      <td>0</td>\n",
       "      <td>0</td>\n",
       "      <td>fnb</td>\n",
       "    </tr>\n",
       "  </tbody>\n",
       "</table>\n",
       "</div>"
      ],
      "text/plain": [
       "                   Datetime             Tweet_Id  \\\n",
       "2 2019-01-01 22:29:20+00:00  1080229514712678400   \n",
       "0 2019-01-01 23:32:42+00:00  1080245458730184704   \n",
       "1 2019-01-01 22:36:31+00:00  1080231323552411650   \n",
       "3 2019-01-01 21:55:39+00:00  1080221037395169280   \n",
       "4 2019-01-01 21:38:11+00:00  1080216641684819968   \n",
       "\n",
       "                                                Text       Username  \\\n",
       "2  Them Ⓜ️'s coming in I let 'em stack up 💰 Don't...      fnb_justo   \n",
       "0  @SlowbucksAce Trippin 🤦🏽‍♂️ gotta give it to g...      fnb_justo   \n",
       "1  Fake news or nah, I needed to see that SMS fro...  BangDulamo_ZA   \n",
       "3  FNB is so annoying with their unauthorized deb...     babyLangah   \n",
       "4  @hothaata Forget the critics let's start 2019 ...    NavasExpert   \n",
       "\n",
       "  Reply_Count Retweet_Count Like_Count Bank  \n",
       "2           0             1         11  fnb  \n",
       "0           0             0          3  fnb  \n",
       "1           0             0          0  fnb  \n",
       "3           0             0          0  fnb  \n",
       "4           0             0          0  fnb  "
      ]
     },
     "execution_count": 5,
     "metadata": {},
     "output_type": "execute_result"
    }
   ],
   "source": [
    "# Inspect tweets and order by the most liked tweets\n",
    "df.head(5).sort_values(by='Like_Count', ascending=False)"
   ]
  }
 ],
 "metadata": {
  "kernelspec": {
   "display_name": "Python 3 (ipykernel)",
   "language": "python",
   "name": "python3"
  },
  "language_info": {
   "codemirror_mode": {
    "name": "ipython",
    "version": 3
   },
   "file_extension": ".py",
   "mimetype": "text/x-python",
   "name": "python",
   "nbconvert_exporter": "python",
   "pygments_lexer": "ipython3",
   "version": "3.10.8"
  }
 },
 "nbformat": 4,
 "nbformat_minor": 5
}
